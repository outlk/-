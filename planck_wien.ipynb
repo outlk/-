{
 "metadata": {
  "language_info": {
   "codemirror_mode": {
    "name": "ipython",
    "version": 3
   },
   "file_extension": ".py",
   "mimetype": "text/x-python",
   "name": "python",
   "nbconvert_exporter": "python",
   "pygments_lexer": "ipython3",
   "version": "3.8.5-final"
  },
  "orig_nbformat": 2,
  "kernelspec": {
   "name": "Python 3.8.5 64-bit ('base': conda)",
   "display_name": "Python 3.8.5 64-bit ('base': conda)",
   "metadata": {
    "interpreter": {
     "hash": "77a7d2fff856187dff684a0bc90c836a5844da492a93119cdb9ad5729861e422"
    }
   }
  }
 },
 "nbformat": 4,
 "nbformat_minor": 2,
 "cells": [
  {
   "source": [
    "# 利用普朗克公式绘制维恩位移定律图像"
   ],
   "cell_type": "markdown",
   "metadata": {}
  },
  {
   "source": [
    "# 遥感原理中的一些常数\n",
    "\n",
    "[https://wenku.baidu.com/view/be350ff29e3143323968934d.html](https://wenku.baidu.com/view/be350ff29e3143323968934d.html \"https://wenku.baidu.com/view/be350ff29e3143323968934d.html\")\n",
    "\n",
    "孔祥生\n",
    "鲁东大学 地理与规划学院\n",
    "\n",
    "| 常数名称  | 大小  | 单位  | 计算公式  | 备注  |\n",
    "| ------------ | ------------ | ------------ | ------------ | ------------ |\n",
    "| PI  | 3.1415926  | 无量纲  |   |   |\n",
    "| 普朗克常数（H）  | 6.63E-34  | $J\\cdot S$  |  |   |\n",
    "| 光束（C）  | 3.00E+08  | $m/s$  |   |   |\n",
    "| 波尔兹曼常数(K) | 1.38E-23  | $\\mu{}m\\cdot{}K$  |   |   |\n",
    "| 普朗克第1辐射常数(c1)  | 3.74E+08  | $W\\cdot\\mu{}m\\cdot{}m^{-2}$  | $2\\times{}\\pi\\times{}h\\times{}c^2$  |   |\n",
    "| 普朗克第2辐射常数(c2)  | 1.44E+04  | $\\mu{}m\\cdot{}K$  |  $h\\times c/K$ |   |\n",
    "| 斯特潘-波尔兹曼常数($\\sigma$) | 5.67E-08  | $W\\cdot m^{-2} \\cdot K^{-4}$  |   |   |\n",
    "| 太阳温度  | 6.00E+03  | $K$  |   |   |\n",
    "| 维恩位移常数(A) | 2898  | $\\mu m \\cdot K$  |   |   |\n",
    "| 普朗克黑体辐射定律(M)  |   | $W\\cdot m^{-2} \\cdot \\mu m^{-1}$   |   $M_\\lambda = \\frac{2\\pi h c^2}{\\lambda^5}\\times{}\\frac{1}{e^{\\frac{hc}{\\lambda K T}}-1}$  | |\n",
    "| 斯特潘-波尔兹曼定律（M）  |   | $W\\cdot m^{-2}$  | $\\sigma T^4$  |   |\n",
    "| 维恩位移定律（$\\mu m$)  |   | $\\mu m$  | $A/T$  |   |\n",
    "| 太阳半径（r）  | 6.96E+08  | $km$  |   |   |\n",
    "| 日地平均距离(R)  | 1.50E+11  | $km$  |   |   |\n",
    "| 太阳半径与日地距离之比  | 2.17E-05  |   |   |   |\n",
    "| 大气层顶太阳光谱辐照度（M）  |   |   | $4\\pi r^2\\times M_{sun}=4 \\pi R^2 \\times M_{atm}$  |   |\n",
    "| 太阳总辐射  | 7.35E+07  | $W\\cdot m^{-2}$  | $\\sigma T$  |  |\n",
    "| 太阳辐射峰值波长  | 4.83E-01  | $\\mu m$  |   |   |\n",
    "\n",
    "![planck.png](planck.png)\n"
   ],
   "cell_type": "markdown",
   "metadata": {}
  },
  {
   "cell_type": "code",
   "execution_count": null,
   "metadata": {},
   "outputs": [],
   "source": [
    "import math\n",
    "\n",
    "import matplotlib.pyplot as plt"
   ]
  },
  {
   "source": [
    "PI，1.1415926，无量纲"
   ],
   "cell_type": "markdown",
   "metadata": {}
  },
  {
   "cell_type": "code",
   "execution_count": null,
   "metadata": {},
   "outputs": [],
   "source": [
    "PI = math.pi"
   ]
  },
  {
   "source": [
    "普朗克常数, 6.63E-34，$J\\cdot{}S$，$W=J/S$"
   ],
   "cell_type": "markdown",
   "metadata": {}
  },
  {
   "cell_type": "code",
   "execution_count": null,
   "metadata": {},
   "outputs": [],
   "source": [
    "H = 6.6260755e-34"
   ]
  },
  {
   "source": [
    "光速，3.00E+08，$m/s$"
   ],
   "cell_type": "markdown",
   "metadata": {}
  },
  {
   "source": [
    "C = 3.00e8"
   ],
   "cell_type": "code",
   "metadata": {},
   "execution_count": null,
   "outputs": []
  },
  {
   "source": [
    "波尔兹曼常数（K），1.38E-23，$\\mu{}m\\cdot{}K$"
   ],
   "cell_type": "markdown",
   "metadata": {}
  },
  {
   "cell_type": "code",
   "execution_count": null,
   "metadata": {},
   "outputs": [],
   "source": [
    "K = 1.38e-23"
   ]
  },
  {
   "source": [
    "普朗克第1辐射常数（c1），3.74E+08，$W\\cdot{}\\mu\\cdot{}m^4\\cdot{}m^{-2}$，$2\\times{}\\pi\\times{}h\\times{}c^2$"
   ],
   "cell_type": "markdown",
   "metadata": {}
  },
  {
   "cell_type": "code",
   "execution_count": null,
   "metadata": {},
   "outputs": [],
   "source": [
    "c1 = 2*PI*H*C*C*1e24"
   ]
  },
  {
   "source": [
    "普朗克第2辐射常数（c2），1.44E+04， $\\mu{}m\\cdot{}K$，$h\\times{}c/K$"
   ],
   "cell_type": "markdown",
   "metadata": {}
  },
  {
   "cell_type": "code",
   "execution_count": null,
   "metadata": {},
   "outputs": [],
   "source": [
    "c2 = H*C/K*1e6"
   ]
  },
  {
   "cell_type": "code",
   "execution_count": null,
   "metadata": {},
   "outputs": [],
   "source": [
    "c1, c2"
   ]
  },
  {
   "source": [
    "生成波长序列"
   ],
   "cell_type": "markdown",
   "metadata": {}
  },
  {
   "cell_type": "code",
   "execution_count": null,
   "metadata": {},
   "outputs": [],
   "source": [
    "lam=[i*0.1 for i in range(1,201)]"
   ]
  },
  {
   "cell_type": "code",
   "execution_count": null,
   "metadata": {},
   "outputs": [],
   "source": [
    "fig = plt.figure(figsize=(16,9))\n",
    "ax=fig.add_subplot()\n",
    "ax.set_xlabel(\"$\\lambda$($\\mu$m)\")\n",
    "ax.set_ylabel(\"E$_{b\\lambda}$($W\\cdot{}m^{-2}\\cdot{}\\mu{}m^{-1}$)\")\n",
    "ax.set_xticks(list(range(0,21,2)))\n",
    "ax.set_xlim(0,20)\n",
    "ax.set_aspect(\"auto\")\n",
    "# ax.set_ylim(ymin=0)\n",
    "ax.grid()\n",
    "for t in range(300, 1100, 100):\n",
    "    b = [c1/(pow(l, 5)*(math.exp(c2/l/t)-1)) for l in lam]\n",
    "    ax.plot(lam, b, lw=2)\n",
    "    maxb = max(b)\n",
    "    index = b.index(maxb)    \n",
    "    l = lam[index]\n",
    "    ax.text(l, maxb, f\"{t}K\")"
   ]
  }
 ]
}